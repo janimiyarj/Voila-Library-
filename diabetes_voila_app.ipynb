{
 "cells": [
  {
   "cell_type": "markdown",
   "id": "58964403",
   "metadata": {},
   "source": [
    "# 🩺 Diabetes Risk Estimator (Using Voila)\n",
    "This interactive dashboard predicts the likelihood of diabetes based on your health metrics. Powered by a trained ML model."
   ]
  },
  {
   "cell_type": "code",
   "execution_count": 4,
   "id": "f098a981",
   "metadata": {},
   "outputs": [],
   "source": [
    "import pandas as pd\n",
    "import numpy as np\n",
    "import joblib\n",
    "import ipywidgets as widgets\n",
    "from IPython.display import display, Markdown\n",
    "\n",
    "# Load trained model\n",
    "try:\n",
    "    model = joblib.load('diabetes_model.pkl')\n",
    "except:\n",
    "    from sklearn.ensemble import RandomForestClassifier\n",
    "    from sklearn.datasets import load_diabetes\n",
    "    from sklearn.model_selection import train_test_split\n",
    "    from sklearn.preprocessing import StandardScaler\n",
    "    # Load dataset\n",
    "    url = 'https://raw.githubusercontent.com/plotly/datasets/master/diabetes.csv'\n",
    "    df = pd.read_csv(url)\n",
    "    X = df.drop('Outcome', axis=1)\n",
    "    y = df['Outcome']\n",
    "    scaler = StandardScaler()\n",
    "    X_scaled = scaler.fit_transform(X)\n",
    "    model = RandomForestClassifier()\n",
    "    model.fit(X_scaled, y)\n",
    "    joblib.dump(model, 'diabetes_model.pkl')\n",
    "    joblib.dump(scaler, 'scaler.pkl')\n",
    "else:\n",
    "    scaler = joblib.load('scaler.pkl')"
   ]
  },
  {
   "cell_type": "code",
   "execution_count": 5,
   "id": "adc9ce77",
   "metadata": {},
   "outputs": [
    {
     "data": {
      "application/vnd.jupyter.widget-view+json": {
       "model_id": "1c47deaa06354435b0e505238ed25b71",
       "version_major": 2,
       "version_minor": 0
      },
      "text/plain": [
       "IntSlider(value=2, description='Pregnancies', max=15)"
      ]
     },
     "metadata": {},
     "output_type": "display_data"
    },
    {
     "data": {
      "application/vnd.jupyter.widget-view+json": {
       "model_id": "a71a4b7c7939436bae1c26897886c8d8",
       "version_major": 2,
       "version_minor": 0
      },
      "text/plain": [
       "IntSlider(value=120, description='Glucose', max=200)"
      ]
     },
     "metadata": {},
     "output_type": "display_data"
    },
    {
     "data": {
      "application/vnd.jupyter.widget-view+json": {
       "model_id": "6b44ab4fb098454084ad42e6c3d380e9",
       "version_major": 2,
       "version_minor": 0
      },
      "text/plain": [
       "IntSlider(value=70, description='BloodPressure', max=130)"
      ]
     },
     "metadata": {},
     "output_type": "display_data"
    },
    {
     "data": {
      "application/vnd.jupyter.widget-view+json": {
       "model_id": "422f2c00c5734ffd80d38403e1f4b8c0",
       "version_major": 2,
       "version_minor": 0
      },
      "text/plain": [
       "IntSlider(value=20, description='SkinThickness', max=99)"
      ]
     },
     "metadata": {},
     "output_type": "display_data"
    },
    {
     "data": {
      "application/vnd.jupyter.widget-view+json": {
       "model_id": "1f5c53554d4e40189f74862f8aae1673",
       "version_major": 2,
       "version_minor": 0
      },
      "text/plain": [
       "IntSlider(value=79, description='Insulin', max=846)"
      ]
     },
     "metadata": {},
     "output_type": "display_data"
    },
    {
     "data": {
      "application/vnd.jupyter.widget-view+json": {
       "model_id": "aa2771e8de8e4721abd41756af45d493",
       "version_major": 2,
       "version_minor": 0
      },
      "text/plain": [
       "FloatSlider(value=25.0, description='BMI', max=70.0)"
      ]
     },
     "metadata": {},
     "output_type": "display_data"
    },
    {
     "data": {
      "application/vnd.jupyter.widget-view+json": {
       "model_id": "0eb60777f27341c490fc1c3615a933ab",
       "version_major": 2,
       "version_minor": 0
      },
      "text/plain": [
       "FloatSlider(value=0.5, description='DiabetesPedigree', max=3.0, step=0.01)"
      ]
     },
     "metadata": {},
     "output_type": "display_data"
    },
    {
     "data": {
      "application/vnd.jupyter.widget-view+json": {
       "model_id": "e265a18e45e2435b9c0e58a38f61f246",
       "version_major": 2,
       "version_minor": 0
      },
      "text/plain": [
       "IntSlider(value=33, description='Age', min=10)"
      ]
     },
     "metadata": {},
     "output_type": "display_data"
    }
   ],
   "source": [
    "# Define widgets\n",
    "preg = widgets.IntSlider(min=0, max=15, value=2, description='Pregnancies')\n",
    "glucose = widgets.IntSlider(min=0, max=200, value=120, description='Glucose')\n",
    "bp = widgets.IntSlider(min=0, max=130, value=70, description='BloodPressure')\n",
    "skin = widgets.IntSlider(min=0, max=99, value=20, description='SkinThickness')\n",
    "insulin = widgets.IntSlider(min=0, max=846, value=79, description='Insulin')\n",
    "bmi = widgets.FloatSlider(min=0, max=70, step=0.1, value=25.0, description='BMI')\n",
    "dpf = widgets.FloatSlider(min=0.0, max=3.0, step=0.01, value=0.5, description='DiabetesPedigree')\n",
    "age = widgets.IntSlider(min=10, max=100, value=33, description='Age')\n",
    "\n",
    "input_widgets = [preg, glucose, bp, skin, insulin, bmi, dpf, age]\n",
    "display(*input_widgets)"
   ]
  },
  {
   "cell_type": "code",
   "execution_count": 6,
   "id": "1fc9d8fe",
   "metadata": {},
   "outputs": [
    {
     "name": "stderr",
     "output_type": "stream",
     "text": [
      "/Users/janimiyashaik/Desktop/Research Lab/Research paper extraction/env/lib/python3.11/site-packages/sklearn/utils/validation.py:2739: UserWarning: X does not have valid feature names, but StandardScaler was fitted with feature names\n",
      "  warnings.warn(\n"
     ]
    },
    {
     "data": {
      "application/vnd.jupyter.widget-view+json": {
       "model_id": "995772070efb44a8998e60ef1ba3b024",
       "version_major": 2,
       "version_minor": 0
      },
      "text/plain": [
       "Output()"
      ]
     },
     "metadata": {},
     "output_type": "display_data"
    }
   ],
   "source": [
    "# Predict and display result\n",
    "out = widgets.Output()\n",
    "\n",
    "def predict_risk(change=None):\n",
    "    input_data = np.array([[\n",
    "        preg.value, glucose.value, bp.value, skin.value, insulin.value,\n",
    "        bmi.value, dpf.value, age.value\n",
    "    ]])\n",
    "    scaled = scaler.transform(input_data)\n",
    "    pred = model.predict(scaled)[0]\n",
    "    prob = model.predict_proba(scaled)[0][pred]\n",
    "    \n",
    "    with out:\n",
    "        out.clear_output()\n",
    "        result = 'High Risk ⚠️' if pred == 1 else 'Low Risk ✅'\n",
    "        display(Markdown(f'### Prediction: **{result}**'))\n",
    "        display(Markdown(f'### Confidence: `{prob:.2%}`'))\n",
    "\n",
    "for widget in input_widgets:\n",
    "    widget.observe(predict_risk, names='value')\n",
    "\n",
    "predict_risk()\n",
    "display(out)"
   ]
  },
  {
   "cell_type": "markdown",
   "id": "bdb641cb",
   "metadata": {},
   "source": [
    "Run this app using:\n",
    "```bash\n",
    "voila diabetes_voila_app.ipynb\n",
    "```"
   ]
  }
 ],
 "metadata": {
  "kernelspec": {
   "display_name": "env",
   "language": "python",
   "name": "python3"
  },
  "language_info": {
   "codemirror_mode": {
    "name": "ipython",
    "version": 3
   },
   "file_extension": ".py",
   "mimetype": "text/x-python",
   "name": "python",
   "nbconvert_exporter": "python",
   "pygments_lexer": "ipython3",
   "version": "3.11.11"
  }
 },
 "nbformat": 4,
 "nbformat_minor": 5
}
